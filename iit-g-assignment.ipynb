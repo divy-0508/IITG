{
 "cells": [
  {
   "cell_type": "code",
   "execution_count": 1,
   "id": "e2f994ce",
   "metadata": {
    "_cell_guid": "b1076dfc-b9ad-4769-8c92-a6c4dae69d19",
    "_uuid": "8f2839f25d086af736a60e9eeb907d3b93b6e0e5",
    "execution": {
     "iopub.execute_input": "2025-06-12T15:27:45.757063Z",
     "iopub.status.busy": "2025-06-12T15:27:45.756029Z",
     "iopub.status.idle": "2025-06-12T15:27:47.865199Z",
     "shell.execute_reply": "2025-06-12T15:27:47.864286Z"
    },
    "papermill": {
     "duration": 2.117533,
     "end_time": "2025-06-12T15:27:47.867133",
     "exception": false,
     "start_time": "2025-06-12T15:27:45.749600",
     "status": "completed"
    },
    "tags": []
   },
   "outputs": [
    {
     "name": "stdout",
     "output_type": "stream",
     "text": [
      "/kaggle/input/summer-analytics-mid-hackathon/hacktest.csv\n",
      "/kaggle/input/summer-analytics-mid-hackathon/hacktrain.csv\n"
     ]
    }
   ],
   "source": [
    "# This Python 3 environment comes with many helpful analytics libraries installed\n",
    "# It is defined by the kaggle/python Docker image: https://github.com/kaggle/docker-python\n",
    "# For example, here's several helpful packages to load\n",
    "\n",
    "import numpy as np # linear algebra\n",
    "import pandas as pd # data processing, CSV file I/O (e.g. pd.read_csv)\n",
    "\n",
    "# Input data files are available in the read-only \"../input/\" directory\n",
    "# For example, running this (by clicking run or pressing Shift+Enter) will list all files under the input directory\n",
    "\n",
    "import os\n",
    "for dirname, _, filenames in os.walk('/kaggle/input'):\n",
    "    for filename in filenames:\n",
    "        print(os.path.join(dirname, filename))\n",
    "\n",
    "# You can write up to 20GB to the current directory (/kaggle/working/) that gets preserved as output when you create a version using \"Save & Run All\" \n",
    "# You can also write temporary files to /kaggle/temp/, but they won't be saved outside of the current session"
   ]
  },
  {
   "cell_type": "code",
   "execution_count": 2,
   "id": "0c67cf10",
   "metadata": {
    "execution": {
     "iopub.execute_input": "2025-06-12T15:27:47.878266Z",
     "iopub.status.busy": "2025-06-12T15:27:47.877744Z",
     "iopub.status.idle": "2025-06-12T15:27:50.032209Z",
     "shell.execute_reply": "2025-06-12T15:27:50.030595Z"
    },
    "papermill": {
     "duration": 2.16238,
     "end_time": "2025-06-12T15:27:50.034306",
     "exception": false,
     "start_time": "2025-06-12T15:27:47.871926",
     "status": "completed"
    },
    "tags": []
   },
   "outputs": [],
   "source": [
    "import pandas as pd\n",
    "import numpy as np\n",
    "from sklearn.impute import SimpleImputer\n",
    "from sklearn.preprocessing import StandardScaler, LabelEncoder\n",
    "from sklearn.linear_model import LogisticRegression\n",
    "from sklearn.model_selection import cross_val_score, train_test_split\n",
    "from sklearn.metrics import classification_report"
   ]
  },
  {
   "cell_type": "code",
   "execution_count": 3,
   "id": "c1eae4b2",
   "metadata": {
    "execution": {
     "iopub.execute_input": "2025-06-12T15:27:50.044349Z",
     "iopub.status.busy": "2025-06-12T15:27:50.043871Z",
     "iopub.status.idle": "2025-06-12T15:27:50.155811Z",
     "shell.execute_reply": "2025-06-12T15:27:50.154145Z"
    },
    "papermill": {
     "duration": 0.119158,
     "end_time": "2025-06-12T15:27:50.157907",
     "exception": false,
     "start_time": "2025-06-12T15:27:50.038749",
     "status": "completed"
    },
    "tags": []
   },
   "outputs": [],
   "source": [
    "# Load data\n",
    "train_df = pd.read_csv(\"/kaggle/input/summer-analytics-mid-hackathon/hacktrain.csv\").drop(columns=[\"Unnamed: 0\"])\n",
    "test_df = pd.read_csv(\"/kaggle/input/summer-analytics-mid-hackathon/hacktest.csv\").drop(columns=[\"Unnamed: 0\"])"
   ]
  },
  {
   "cell_type": "code",
   "execution_count": 4,
   "id": "2a755b41",
   "metadata": {
    "execution": {
     "iopub.execute_input": "2025-06-12T15:27:50.168422Z",
     "iopub.status.busy": "2025-06-12T15:27:50.167764Z",
     "iopub.status.idle": "2025-06-12T15:27:50.172062Z",
     "shell.execute_reply": "2025-06-12T15:27:50.171095Z"
    },
    "papermill": {
     "duration": 0.011264,
     "end_time": "2025-06-12T15:27:50.173800",
     "exception": false,
     "start_time": "2025-06-12T15:27:50.162536",
     "status": "completed"
    },
    "tags": []
   },
   "outputs": [],
   "source": [
    "#train_df.head()\n",
    "#test_df.head()"
   ]
  },
  {
   "cell_type": "code",
   "execution_count": 5,
   "id": "7dff07c4",
   "metadata": {
    "execution": {
     "iopub.execute_input": "2025-06-12T15:27:50.183441Z",
     "iopub.status.busy": "2025-06-12T15:27:50.183094Z",
     "iopub.status.idle": "2025-06-12T15:27:50.187947Z",
     "shell.execute_reply": "2025-06-12T15:27:50.186964Z"
    },
    "papermill": {
     "duration": 0.011517,
     "end_time": "2025-06-12T15:27:50.189557",
     "exception": false,
     "start_time": "2025-06-12T15:27:50.178040",
     "status": "completed"
    },
    "tags": []
   },
   "outputs": [],
   "source": [
    "# Identify NDVI columns\n",
    "ndvi_columns = [col for col in train_df.columns if \"_N\" in col]"
   ]
  },
  {
   "cell_type": "code",
   "execution_count": 6,
   "id": "53227a09",
   "metadata": {
    "execution": {
     "iopub.execute_input": "2025-06-12T15:27:50.200363Z",
     "iopub.status.busy": "2025-06-12T15:27:50.200022Z",
     "iopub.status.idle": "2025-06-12T15:27:50.207904Z",
     "shell.execute_reply": "2025-06-12T15:27:50.206927Z"
    },
    "papermill": {
     "duration": 0.01559,
     "end_time": "2025-06-12T15:27:50.209658",
     "exception": false,
     "start_time": "2025-06-12T15:27:50.194068",
     "status": "completed"
    },
    "tags": []
   },
   "outputs": [],
   "source": [
    "# Split features and target\n",
    "X_train_raw = train_df[ndvi_columns]\n",
    "y_train_raw = train_df[\"class\"]\n",
    "X_test_raw = test_df[ndvi_columns]\n",
    "test_ids = test_df[\"ID\"]"
   ]
  },
  {
   "cell_type": "code",
   "execution_count": 7,
   "id": "e53b8961",
   "metadata": {
    "execution": {
     "iopub.execute_input": "2025-06-12T15:27:50.220079Z",
     "iopub.status.busy": "2025-06-12T15:27:50.219072Z",
     "iopub.status.idle": "2025-06-12T15:27:50.231991Z",
     "shell.execute_reply": "2025-06-12T15:27:50.230800Z"
    },
    "papermill": {
     "duration": 0.019924,
     "end_time": "2025-06-12T15:27:50.233795",
     "exception": false,
     "start_time": "2025-06-12T15:27:50.213871",
     "status": "completed"
    },
    "tags": []
   },
   "outputs": [
    {
     "data": {
      "text/plain": [
       "ID               0\n",
       "class            0\n",
       "20150720_N     560\n",
       "20150602_N    1200\n",
       "20150517_N     800\n",
       "20150501_N     960\n",
       "20150415_N     480\n",
       "20150330_N    1120\n",
       "20150314_N     720\n",
       "20150226_N    1360\n",
       "20150210_N     640\n",
       "20150125_N    1040\n",
       "20150109_N     880\n",
       "20141117_N    1280\n",
       "20141101_N     400\n",
       "20141016_N    1440\n",
       "20140930_N     800\n",
       "20140813_N     560\n",
       "20140626_N    1600\n",
       "20140610_N     480\n",
       "20140525_N     720\n",
       "20140509_N     880\n",
       "20140423_N    1760\n",
       "20140407_N     640\n",
       "20140322_N    1120\n",
       "20140218_N    1440\n",
       "20140202_N     560\n",
       "20140117_N    1200\n",
       "20140101_N     400\n",
       "dtype: int64"
      ]
     },
     "execution_count": 7,
     "metadata": {},
     "output_type": "execute_result"
    }
   ],
   "source": [
    "# Checking for NULL values \n",
    "train_df.isnull().sum()"
   ]
  },
  {
   "cell_type": "code",
   "execution_count": 8,
   "id": "2e94d59e",
   "metadata": {
    "execution": {
     "iopub.execute_input": "2025-06-12T15:27:50.243844Z",
     "iopub.status.busy": "2025-06-12T15:27:50.243488Z",
     "iopub.status.idle": "2025-06-12T15:27:50.268873Z",
     "shell.execute_reply": "2025-06-12T15:27:50.268066Z"
    },
    "papermill": {
     "duration": 0.032411,
     "end_time": "2025-06-12T15:27:50.270536",
     "exception": false,
     "start_time": "2025-06-12T15:27:50.238125",
     "status": "completed"
    },
    "tags": []
   },
   "outputs": [],
   "source": [
    "# Handle missing values using mean imputation\n",
    "imputer = SimpleImputer(strategy=\"mean\")\n",
    "X_train_imputed = imputer.fit_transform(X_train_raw)\n",
    "X_test_imputed = imputer.transform(X_test_raw)"
   ]
  },
  {
   "cell_type": "code",
   "execution_count": 9,
   "id": "b95d23df",
   "metadata": {
    "execution": {
     "iopub.execute_input": "2025-06-12T15:27:50.280317Z",
     "iopub.status.busy": "2025-06-12T15:27:50.279966Z",
     "iopub.status.idle": "2025-06-12T15:27:50.316814Z",
     "shell.execute_reply": "2025-06-12T15:27:50.315714Z"
    },
    "papermill": {
     "duration": 0.043819,
     "end_time": "2025-06-12T15:27:50.318669",
     "exception": false,
     "start_time": "2025-06-12T15:27:50.274850",
     "status": "completed"
    },
    "tags": []
   },
   "outputs": [],
   "source": [
    "# Scale the NDVI values\n",
    "scaler = StandardScaler()\n",
    "X_train_scaled = scaler.fit_transform(X_train_imputed)\n",
    "X_test_scaled = scaler.transform(X_test_imputed)"
   ]
  },
  {
   "cell_type": "code",
   "execution_count": 10,
   "id": "58d28b5c",
   "metadata": {
    "execution": {
     "iopub.execute_input": "2025-06-12T15:27:50.328443Z",
     "iopub.status.busy": "2025-06-12T15:27:50.328093Z",
     "iopub.status.idle": "2025-06-12T15:27:50.334092Z",
     "shell.execute_reply": "2025-06-12T15:27:50.333138Z"
    },
    "papermill": {
     "duration": 0.012725,
     "end_time": "2025-06-12T15:27:50.335710",
     "exception": false,
     "start_time": "2025-06-12T15:27:50.322985",
     "status": "completed"
    },
    "tags": []
   },
   "outputs": [],
   "source": [
    "# Feature Engineering Function\n",
    "def extract_features(data):\n",
    "    return pd.DataFrame({\n",
    "        'mean': data.mean(axis=1),\n",
    "        'std': data.std(axis=1),\n",
    "        'min': data.min(axis=1),\n",
    "        'max': data.max(axis=1),\n",
    "        'range': data.max(axis=1) - data.min(axis=1),\n",
    "        'missing_frac': np.isnan(data).mean(axis=1),\n",
    "        'ndvi_sum': data.sum(axis=1),\n",
    "        'median': np.median(data, axis=1),\n",
    "    })"
   ]
  },
  {
   "cell_type": "code",
   "execution_count": 11,
   "id": "054fa8da",
   "metadata": {
    "execution": {
     "iopub.execute_input": "2025-06-12T15:27:50.345472Z",
     "iopub.status.busy": "2025-06-12T15:27:50.345125Z",
     "iopub.status.idle": "2025-06-12T15:27:50.369783Z",
     "shell.execute_reply": "2025-06-12T15:27:50.368897Z"
    },
    "papermill": {
     "duration": 0.031423,
     "end_time": "2025-06-12T15:27:50.371464",
     "exception": false,
     "start_time": "2025-06-12T15:27:50.340041",
     "status": "completed"
    },
    "tags": []
   },
   "outputs": [],
   "source": [
    "# Extract features\n",
    "X_train_features = extract_features(X_train_scaled)\n",
    "X_test_features = extract_features(X_test_scaled)"
   ]
  },
  {
   "cell_type": "code",
   "execution_count": 12,
   "id": "84022a8e",
   "metadata": {
    "execution": {
     "iopub.execute_input": "2025-06-12T15:27:50.381089Z",
     "iopub.status.busy": "2025-06-12T15:27:50.380773Z",
     "iopub.status.idle": "2025-06-12T15:27:50.386764Z",
     "shell.execute_reply": "2025-06-12T15:27:50.385931Z"
    },
    "papermill": {
     "duration": 0.012527,
     "end_time": "2025-06-12T15:27:50.388275",
     "exception": false,
     "start_time": "2025-06-12T15:27:50.375748",
     "status": "completed"
    },
    "tags": []
   },
   "outputs": [],
   "source": [
    "# Encode labels\n",
    "label_encoder = LabelEncoder()\n",
    "y_train = label_encoder.fit_transform(y_train_raw)"
   ]
  },
  {
   "cell_type": "code",
   "execution_count": 13,
   "id": "249a1637",
   "metadata": {
    "execution": {
     "iopub.execute_input": "2025-06-12T15:27:50.397890Z",
     "iopub.status.busy": "2025-06-12T15:27:50.397566Z",
     "iopub.status.idle": "2025-06-12T15:27:50.417416Z",
     "shell.execute_reply": "2025-06-12T15:27:50.416533Z"
    },
    "papermill": {
     "duration": 0.026566,
     "end_time": "2025-06-12T15:27:50.419048",
     "exception": false,
     "start_time": "2025-06-12T15:27:50.392482",
     "status": "completed"
    },
    "tags": []
   },
   "outputs": [],
   "source": [
    "from sklearn.model_selection import train_test_split\n",
    "\n",
    "# Split training data into training and validation sets\n",
    "X_subtrain, X_val, y_subtrain, y_val = train_test_split(\n",
    "    X_train_features, y_train, test_size=0.2, random_state=42, stratify=y_train)\n"
   ]
  },
  {
   "cell_type": "code",
   "execution_count": 14,
   "id": "020bee68",
   "metadata": {
    "execution": {
     "iopub.execute_input": "2025-06-12T15:27:50.429328Z",
     "iopub.status.busy": "2025-06-12T15:27:50.428986Z",
     "iopub.status.idle": "2025-06-12T15:27:55.338047Z",
     "shell.execute_reply": "2025-06-12T15:27:55.336449Z"
    },
    "papermill": {
     "duration": 4.916475,
     "end_time": "2025-06-12T15:27:55.339766",
     "exception": false,
     "start_time": "2025-06-12T15:27:50.423291",
     "status": "completed"
    },
    "tags": []
   },
   "outputs": [
    {
     "data": {
      "text/html": [
       "<style>#sk-container-id-1 {color: black;background-color: white;}#sk-container-id-1 pre{padding: 0;}#sk-container-id-1 div.sk-toggleable {background-color: white;}#sk-container-id-1 label.sk-toggleable__label {cursor: pointer;display: block;width: 100%;margin-bottom: 0;padding: 0.3em;box-sizing: border-box;text-align: center;}#sk-container-id-1 label.sk-toggleable__label-arrow:before {content: \"▸\";float: left;margin-right: 0.25em;color: #696969;}#sk-container-id-1 label.sk-toggleable__label-arrow:hover:before {color: black;}#sk-container-id-1 div.sk-estimator:hover label.sk-toggleable__label-arrow:before {color: black;}#sk-container-id-1 div.sk-toggleable__content {max-height: 0;max-width: 0;overflow: hidden;text-align: left;background-color: #f0f8ff;}#sk-container-id-1 div.sk-toggleable__content pre {margin: 0.2em;color: black;border-radius: 0.25em;background-color: #f0f8ff;}#sk-container-id-1 input.sk-toggleable__control:checked~div.sk-toggleable__content {max-height: 200px;max-width: 100%;overflow: auto;}#sk-container-id-1 input.sk-toggleable__control:checked~label.sk-toggleable__label-arrow:before {content: \"▾\";}#sk-container-id-1 div.sk-estimator input.sk-toggleable__control:checked~label.sk-toggleable__label {background-color: #d4ebff;}#sk-container-id-1 div.sk-label input.sk-toggleable__control:checked~label.sk-toggleable__label {background-color: #d4ebff;}#sk-container-id-1 input.sk-hidden--visually {border: 0;clip: rect(1px 1px 1px 1px);clip: rect(1px, 1px, 1px, 1px);height: 1px;margin: -1px;overflow: hidden;padding: 0;position: absolute;width: 1px;}#sk-container-id-1 div.sk-estimator {font-family: monospace;background-color: #f0f8ff;border: 1px dotted black;border-radius: 0.25em;box-sizing: border-box;margin-bottom: 0.5em;}#sk-container-id-1 div.sk-estimator:hover {background-color: #d4ebff;}#sk-container-id-1 div.sk-parallel-item::after {content: \"\";width: 100%;border-bottom: 1px solid gray;flex-grow: 1;}#sk-container-id-1 div.sk-label:hover label.sk-toggleable__label {background-color: #d4ebff;}#sk-container-id-1 div.sk-serial::before {content: \"\";position: absolute;border-left: 1px solid gray;box-sizing: border-box;top: 0;bottom: 0;left: 50%;z-index: 0;}#sk-container-id-1 div.sk-serial {display: flex;flex-direction: column;align-items: center;background-color: white;padding-right: 0.2em;padding-left: 0.2em;position: relative;}#sk-container-id-1 div.sk-item {position: relative;z-index: 1;}#sk-container-id-1 div.sk-parallel {display: flex;align-items: stretch;justify-content: center;background-color: white;position: relative;}#sk-container-id-1 div.sk-item::before, #sk-container-id-1 div.sk-parallel-item::before {content: \"\";position: absolute;border-left: 1px solid gray;box-sizing: border-box;top: 0;bottom: 0;left: 50%;z-index: -1;}#sk-container-id-1 div.sk-parallel-item {display: flex;flex-direction: column;z-index: 1;position: relative;background-color: white;}#sk-container-id-1 div.sk-parallel-item:first-child::after {align-self: flex-end;width: 50%;}#sk-container-id-1 div.sk-parallel-item:last-child::after {align-self: flex-start;width: 50%;}#sk-container-id-1 div.sk-parallel-item:only-child::after {width: 0;}#sk-container-id-1 div.sk-dashed-wrapped {border: 1px dashed gray;margin: 0 0.4em 0.5em 0.4em;box-sizing: border-box;padding-bottom: 0.4em;background-color: white;}#sk-container-id-1 div.sk-label label {font-family: monospace;font-weight: bold;display: inline-block;line-height: 1.2em;}#sk-container-id-1 div.sk-label-container {text-align: center;}#sk-container-id-1 div.sk-container {/* jupyter's `normalize.less` sets `[hidden] { display: none; }` but bootstrap.min.css set `[hidden] { display: none !important; }` so we also need the `!important` here to be able to override the default hidden behavior on the sphinx rendered scikit-learn.org. See: https://github.com/scikit-learn/scikit-learn/issues/21755 */display: inline-block !important;position: relative;}#sk-container-id-1 div.sk-text-repr-fallback {display: none;}</style><div id=\"sk-container-id-1\" class=\"sk-top-container\"><div class=\"sk-text-repr-fallback\"><pre>LogisticRegression(max_iter=1000, multi_class=&#x27;multinomial&#x27;, random_state=42)</pre><b>In a Jupyter environment, please rerun this cell to show the HTML representation or trust the notebook. <br />On GitHub, the HTML representation is unable to render, please try loading this page with nbviewer.org.</b></div><div class=\"sk-container\" hidden><div class=\"sk-item\"><div class=\"sk-estimator sk-toggleable\"><input class=\"sk-toggleable__control sk-hidden--visually\" id=\"sk-estimator-id-1\" type=\"checkbox\" checked><label for=\"sk-estimator-id-1\" class=\"sk-toggleable__label sk-toggleable__label-arrow\">LogisticRegression</label><div class=\"sk-toggleable__content\"><pre>LogisticRegression(max_iter=1000, multi_class=&#x27;multinomial&#x27;, random_state=42)</pre></div></div></div></div></div>"
      ],
      "text/plain": [
       "LogisticRegression(max_iter=1000, multi_class='multinomial', random_state=42)"
      ]
     },
     "execution_count": 14,
     "metadata": {},
     "output_type": "execute_result"
    }
   ],
   "source": [
    "# Train the model\n",
    "model = LogisticRegression(multi_class='multinomial', solver='lbfgs', max_iter=1000, random_state=42)\n",
    "model.fit(X_subtrain, y_subtrain)"
   ]
  },
  {
   "cell_type": "code",
   "execution_count": 15,
   "id": "3d7e6e00",
   "metadata": {
    "execution": {
     "iopub.execute_input": "2025-06-12T15:27:55.355085Z",
     "iopub.status.busy": "2025-06-12T15:27:55.354759Z",
     "iopub.status.idle": "2025-06-12T15:27:55.386005Z",
     "shell.execute_reply": "2025-06-12T15:27:55.385266Z"
    },
    "papermill": {
     "duration": 0.04307,
     "end_time": "2025-06-12T15:27:55.389835",
     "exception": false,
     "start_time": "2025-06-12T15:27:55.346765",
     "status": "completed"
    },
    "tags": []
   },
   "outputs": [
    {
     "name": "stdout",
     "output_type": "stream",
     "text": [
      "📊 Classification Report on Validation Set:\n",
      "              precision    recall  f1-score   support\n",
      "\n",
      "        farm       0.42      0.12      0.19       168\n",
      "      forest       0.87      0.99      0.92      1232\n",
      "       grass       0.57      0.10      0.17        39\n",
      "  impervious       0.76      0.78      0.77       134\n",
      "     orchard       0.00      0.00      0.00         6\n",
      "       water       0.89      0.38      0.53        21\n",
      "\n",
      "    accuracy                           0.84      1600\n",
      "   macro avg       0.58      0.39      0.43      1600\n",
      "weighted avg       0.80      0.84      0.81      1600\n",
      "\n"
     ]
    },
    {
     "name": "stderr",
     "output_type": "stream",
     "text": [
      "/usr/local/lib/python3.11/dist-packages/sklearn/metrics/_classification.py:1344: UndefinedMetricWarning: Precision and F-score are ill-defined and being set to 0.0 in labels with no predicted samples. Use `zero_division` parameter to control this behavior.\n",
      "  _warn_prf(average, modifier, msg_start, len(result))\n",
      "/usr/local/lib/python3.11/dist-packages/sklearn/metrics/_classification.py:1344: UndefinedMetricWarning: Precision and F-score are ill-defined and being set to 0.0 in labels with no predicted samples. Use `zero_division` parameter to control this behavior.\n",
      "  _warn_prf(average, modifier, msg_start, len(result))\n",
      "/usr/local/lib/python3.11/dist-packages/sklearn/metrics/_classification.py:1344: UndefinedMetricWarning: Precision and F-score are ill-defined and being set to 0.0 in labels with no predicted samples. Use `zero_division` parameter to control this behavior.\n",
      "  _warn_prf(average, modifier, msg_start, len(result))\n"
     ]
    }
   ],
   "source": [
    "# Evaluate with validation set\n",
    "y_val_pred = model.predict(X_val)\n",
    "print(\"📊 Classification Report on Validation Set:\")\n",
    "print(classification_report(y_val, y_val_pred, target_names=label_encoder.classes_))"
   ]
  },
  {
   "cell_type": "code",
   "execution_count": 16,
   "id": "a6370d33",
   "metadata": {
    "execution": {
     "iopub.execute_input": "2025-06-12T15:27:55.406174Z",
     "iopub.status.busy": "2025-06-12T15:27:55.405781Z",
     "iopub.status.idle": "2025-06-12T15:28:17.306451Z",
     "shell.execute_reply": "2025-06-12T15:28:17.303372Z"
    },
    "papermill": {
     "duration": 21.91098,
     "end_time": "2025-06-12T15:28:17.308099",
     "exception": false,
     "start_time": "2025-06-12T15:27:55.397119",
     "status": "completed"
    },
    "tags": []
   },
   "outputs": [
    {
     "name": "stdout",
     "output_type": "stream",
     "text": [
      "✅ Cross-Validation Accuracy: 83.58 %\n"
     ]
    }
   ],
   "source": [
    "# Cross-validation score\n",
    "cv_score = cross_val_score(model, X_train_features, y_train, cv=5, scoring='accuracy').mean()\n",
    "print(\"✅ Cross-Validation Accuracy:\", round(cv_score * 100, 2), \"%\")"
   ]
  },
  {
   "cell_type": "code",
   "execution_count": 17,
   "id": "40b7d8df",
   "metadata": {
    "execution": {
     "iopub.execute_input": "2025-06-12T15:28:17.345459Z",
     "iopub.status.busy": "2025-06-12T15:28:17.342999Z",
     "iopub.status.idle": "2025-06-12T15:28:23.227429Z",
     "shell.execute_reply": "2025-06-12T15:28:23.226716Z"
    },
    "papermill": {
     "duration": 5.904456,
     "end_time": "2025-06-12T15:28:23.228929",
     "exception": false,
     "start_time": "2025-06-12T15:28:17.324473",
     "status": "completed"
    },
    "tags": []
   },
   "outputs": [
    {
     "data": {
      "text/html": [
       "<style>#sk-container-id-2 {color: black;background-color: white;}#sk-container-id-2 pre{padding: 0;}#sk-container-id-2 div.sk-toggleable {background-color: white;}#sk-container-id-2 label.sk-toggleable__label {cursor: pointer;display: block;width: 100%;margin-bottom: 0;padding: 0.3em;box-sizing: border-box;text-align: center;}#sk-container-id-2 label.sk-toggleable__label-arrow:before {content: \"▸\";float: left;margin-right: 0.25em;color: #696969;}#sk-container-id-2 label.sk-toggleable__label-arrow:hover:before {color: black;}#sk-container-id-2 div.sk-estimator:hover label.sk-toggleable__label-arrow:before {color: black;}#sk-container-id-2 div.sk-toggleable__content {max-height: 0;max-width: 0;overflow: hidden;text-align: left;background-color: #f0f8ff;}#sk-container-id-2 div.sk-toggleable__content pre {margin: 0.2em;color: black;border-radius: 0.25em;background-color: #f0f8ff;}#sk-container-id-2 input.sk-toggleable__control:checked~div.sk-toggleable__content {max-height: 200px;max-width: 100%;overflow: auto;}#sk-container-id-2 input.sk-toggleable__control:checked~label.sk-toggleable__label-arrow:before {content: \"▾\";}#sk-container-id-2 div.sk-estimator input.sk-toggleable__control:checked~label.sk-toggleable__label {background-color: #d4ebff;}#sk-container-id-2 div.sk-label input.sk-toggleable__control:checked~label.sk-toggleable__label {background-color: #d4ebff;}#sk-container-id-2 input.sk-hidden--visually {border: 0;clip: rect(1px 1px 1px 1px);clip: rect(1px, 1px, 1px, 1px);height: 1px;margin: -1px;overflow: hidden;padding: 0;position: absolute;width: 1px;}#sk-container-id-2 div.sk-estimator {font-family: monospace;background-color: #f0f8ff;border: 1px dotted black;border-radius: 0.25em;box-sizing: border-box;margin-bottom: 0.5em;}#sk-container-id-2 div.sk-estimator:hover {background-color: #d4ebff;}#sk-container-id-2 div.sk-parallel-item::after {content: \"\";width: 100%;border-bottom: 1px solid gray;flex-grow: 1;}#sk-container-id-2 div.sk-label:hover label.sk-toggleable__label {background-color: #d4ebff;}#sk-container-id-2 div.sk-serial::before {content: \"\";position: absolute;border-left: 1px solid gray;box-sizing: border-box;top: 0;bottom: 0;left: 50%;z-index: 0;}#sk-container-id-2 div.sk-serial {display: flex;flex-direction: column;align-items: center;background-color: white;padding-right: 0.2em;padding-left: 0.2em;position: relative;}#sk-container-id-2 div.sk-item {position: relative;z-index: 1;}#sk-container-id-2 div.sk-parallel {display: flex;align-items: stretch;justify-content: center;background-color: white;position: relative;}#sk-container-id-2 div.sk-item::before, #sk-container-id-2 div.sk-parallel-item::before {content: \"\";position: absolute;border-left: 1px solid gray;box-sizing: border-box;top: 0;bottom: 0;left: 50%;z-index: -1;}#sk-container-id-2 div.sk-parallel-item {display: flex;flex-direction: column;z-index: 1;position: relative;background-color: white;}#sk-container-id-2 div.sk-parallel-item:first-child::after {align-self: flex-end;width: 50%;}#sk-container-id-2 div.sk-parallel-item:last-child::after {align-self: flex-start;width: 50%;}#sk-container-id-2 div.sk-parallel-item:only-child::after {width: 0;}#sk-container-id-2 div.sk-dashed-wrapped {border: 1px dashed gray;margin: 0 0.4em 0.5em 0.4em;box-sizing: border-box;padding-bottom: 0.4em;background-color: white;}#sk-container-id-2 div.sk-label label {font-family: monospace;font-weight: bold;display: inline-block;line-height: 1.2em;}#sk-container-id-2 div.sk-label-container {text-align: center;}#sk-container-id-2 div.sk-container {/* jupyter's `normalize.less` sets `[hidden] { display: none; }` but bootstrap.min.css set `[hidden] { display: none !important; }` so we also need the `!important` here to be able to override the default hidden behavior on the sphinx rendered scikit-learn.org. See: https://github.com/scikit-learn/scikit-learn/issues/21755 */display: inline-block !important;position: relative;}#sk-container-id-2 div.sk-text-repr-fallback {display: none;}</style><div id=\"sk-container-id-2\" class=\"sk-top-container\"><div class=\"sk-text-repr-fallback\"><pre>LogisticRegression(max_iter=1000, multi_class=&#x27;multinomial&#x27;, random_state=42)</pre><b>In a Jupyter environment, please rerun this cell to show the HTML representation or trust the notebook. <br />On GitHub, the HTML representation is unable to render, please try loading this page with nbviewer.org.</b></div><div class=\"sk-container\" hidden><div class=\"sk-item\"><div class=\"sk-estimator sk-toggleable\"><input class=\"sk-toggleable__control sk-hidden--visually\" id=\"sk-estimator-id-2\" type=\"checkbox\" checked><label for=\"sk-estimator-id-2\" class=\"sk-toggleable__label sk-toggleable__label-arrow\">LogisticRegression</label><div class=\"sk-toggleable__content\"><pre>LogisticRegression(max_iter=1000, multi_class=&#x27;multinomial&#x27;, random_state=42)</pre></div></div></div></div></div>"
      ],
      "text/plain": [
       "LogisticRegression(max_iter=1000, multi_class='multinomial', random_state=42)"
      ]
     },
     "execution_count": 17,
     "metadata": {},
     "output_type": "execute_result"
    }
   ],
   "source": [
    "# Final model training on full data\n",
    "model.fit(X_train_features, y_train)"
   ]
  },
  {
   "cell_type": "code",
   "execution_count": 18,
   "id": "80aa764d",
   "metadata": {
    "execution": {
     "iopub.execute_input": "2025-06-12T15:28:23.245822Z",
     "iopub.status.busy": "2025-06-12T15:28:23.245166Z",
     "iopub.status.idle": "2025-06-12T15:28:23.257927Z",
     "shell.execute_reply": "2025-06-12T15:28:23.257262Z"
    },
    "papermill": {
     "duration": 0.023418,
     "end_time": "2025-06-12T15:28:23.260025",
     "exception": false,
     "start_time": "2025-06-12T15:28:23.236607",
     "status": "completed"
    },
    "tags": []
   },
   "outputs": [],
   "source": [
    "# Predict on test set\n",
    "y_test_preds = label_encoder.inverse_transform(model.predict(X_test_features))"
   ]
  },
  {
   "cell_type": "code",
   "execution_count": 19,
   "id": "dcee7d84",
   "metadata": {
    "execution": {
     "iopub.execute_input": "2025-06-12T15:28:23.276327Z",
     "iopub.status.busy": "2025-06-12T15:28:23.275986Z",
     "iopub.status.idle": "2025-06-12T15:28:23.282283Z",
     "shell.execute_reply": "2025-06-12T15:28:23.281548Z"
    },
    "papermill": {
     "duration": 0.016489,
     "end_time": "2025-06-12T15:28:23.284048",
     "exception": false,
     "start_time": "2025-06-12T15:28:23.267559",
     "status": "completed"
    },
    "tags": []
   },
   "outputs": [],
   "source": [
    "# Prepare submission\n",
    "submission_df = pd.DataFrame({\n",
    "    \"ID\": test_ids,\n",
    "    \"class\": y_test_preds\n",
    "})"
   ]
  },
  {
   "cell_type": "code",
   "execution_count": 20,
   "id": "85e121e5",
   "metadata": {
    "execution": {
     "iopub.execute_input": "2025-06-12T15:28:23.301025Z",
     "iopub.status.busy": "2025-06-12T15:28:23.300658Z",
     "iopub.status.idle": "2025-06-12T15:28:23.321286Z",
     "shell.execute_reply": "2025-06-12T15:28:23.320512Z"
    },
    "papermill": {
     "duration": 0.031407,
     "end_time": "2025-06-12T15:28:23.323256",
     "exception": false,
     "start_time": "2025-06-12T15:28:23.291849",
     "status": "completed"
    },
    "tags": []
   },
   "outputs": [
    {
     "name": "stdout",
     "output_type": "stream",
     "text": [
      "✅ Submission file saved as: ndvi_logreg_submission.csv\n"
     ]
    }
   ],
   "source": [
    "submission_df.to_csv(\"ndvi_logreg_submission.csv\", index=False)\n",
    "print(\"✅ Submission file saved as: ndvi_logreg_submission.csv\")"
   ]
  },
  {
   "cell_type": "code",
   "execution_count": 21,
   "id": "0b8a1dde",
   "metadata": {
    "execution": {
     "iopub.execute_input": "2025-06-12T15:28:23.339910Z",
     "iopub.status.busy": "2025-06-12T15:28:23.339575Z",
     "iopub.status.idle": "2025-06-12T15:28:23.358040Z",
     "shell.execute_reply": "2025-06-12T15:28:23.357302Z"
    },
    "papermill": {
     "duration": 0.028749,
     "end_time": "2025-06-12T15:28:23.359753",
     "exception": false,
     "start_time": "2025-06-12T15:28:23.331004",
     "status": "completed"
    },
    "tags": []
   },
   "outputs": [
    {
     "data": {
      "text/html": [
       "<div>\n",
       "<style scoped>\n",
       "    .dataframe tbody tr th:only-of-type {\n",
       "        vertical-align: middle;\n",
       "    }\n",
       "\n",
       "    .dataframe tbody tr th {\n",
       "        vertical-align: top;\n",
       "    }\n",
       "\n",
       "    .dataframe thead th {\n",
       "        text-align: right;\n",
       "    }\n",
       "</style>\n",
       "<table border=\"1\" class=\"dataframe\">\n",
       "  <thead>\n",
       "    <tr style=\"text-align: right;\">\n",
       "      <th></th>\n",
       "      <th>ID</th>\n",
       "      <th>class</th>\n",
       "    </tr>\n",
       "  </thead>\n",
       "  <tbody>\n",
       "    <tr>\n",
       "      <th>0</th>\n",
       "      <td>1</td>\n",
       "      <td>forest</td>\n",
       "    </tr>\n",
       "    <tr>\n",
       "      <th>1</th>\n",
       "      <td>2</td>\n",
       "      <td>forest</td>\n",
       "    </tr>\n",
       "    <tr>\n",
       "      <th>2</th>\n",
       "      <td>3</td>\n",
       "      <td>forest</td>\n",
       "    </tr>\n",
       "    <tr>\n",
       "      <th>3</th>\n",
       "      <td>4</td>\n",
       "      <td>forest</td>\n",
       "    </tr>\n",
       "    <tr>\n",
       "      <th>4</th>\n",
       "      <td>5</td>\n",
       "      <td>forest</td>\n",
       "    </tr>\n",
       "  </tbody>\n",
       "</table>\n",
       "</div>"
      ],
      "text/plain": [
       "   ID   class\n",
       "0   1  forest\n",
       "1   2  forest\n",
       "2   3  forest\n",
       "3   4  forest\n",
       "4   5  forest"
      ]
     },
     "execution_count": 21,
     "metadata": {},
     "output_type": "execute_result"
    }
   ],
   "source": [
    "submission_df.head()"
   ]
  }
 ],
 "metadata": {
  "kaggle": {
   "accelerator": "none",
   "dataSources": [
    {
     "databundleVersionId": 12585144,
     "sourceId": 104491,
     "sourceType": "competition"
    }
   ],
   "dockerImageVersionId": 31040,
   "isGpuEnabled": false,
   "isInternetEnabled": true,
   "language": "python",
   "sourceType": "notebook"
  },
  "kernelspec": {
   "display_name": "Python 3",
   "language": "python",
   "name": "python3"
  },
  "language_info": {
   "codemirror_mode": {
    "name": "ipython",
    "version": 3
   },
   "file_extension": ".py",
   "mimetype": "text/x-python",
   "name": "python",
   "nbconvert_exporter": "python",
   "pygments_lexer": "ipython3",
   "version": "3.11.11"
  },
  "papermill": {
   "default_parameters": {},
   "duration": 43.487201,
   "end_time": "2025-06-12T15:28:24.085440",
   "environment_variables": {},
   "exception": null,
   "input_path": "__notebook__.ipynb",
   "output_path": "__notebook__.ipynb",
   "parameters": {},
   "start_time": "2025-06-12T15:27:40.598239",
   "version": "2.6.0"
  }
 },
 "nbformat": 4,
 "nbformat_minor": 5
}
